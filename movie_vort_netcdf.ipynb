{
 "cells": [
  {
   "cell_type": "code",
   "execution_count": null,
   "metadata": {},
   "outputs": [],
   "source": [
    "import numpy as np\n",
    "import xarray as xr\n",
    "import matplotlib.pyplot as plt"
   ]
  },
  {
   "cell_type": "code",
   "execution_count": null,
   "metadata": {},
   "outputs": [],
   "source": [
    "def calcRelVort(pltdatau, pltdatav, griddata):\n",
    "    uy = pltdatau.diff('eta_rho').values*griddata.pn[:-1,:-1]\n",
    "    uy = 0.5*(uy[1:,:] + uy[:-1,:])\n",
    "    vx = pltdatav.diff('xi_rho').values*griddata.pm[:-1,:-1]\n",
    "    zeta = vx[:-1,:]-uy\n",
    "    cori = 2*2*np.pi/86400*np.sin(griddata.lat_rho*np.pi/180)\n",
    "    zetanorm = zeta/cori[1:-1,:-1]\n",
    "    ny, nx = griddata.pm.shape\n",
    "    temp = 0*np.zeros((ny, nx))\n",
    "    temp[1:-1,1:]  = zetanorm\n",
    "    return temp"
   ]
  },
  {
   "cell_type": "code",
   "execution_count": null,
   "metadata": {},
   "outputs": [],
   "source": [
    "files_loc = 'enter/path/here/'\n",
    "grid = xr.open_dataset(files_loc+'croco_grd.nc')\n",
    "his = xr.open_mfdataset(files_loc+'croco_his*.nc', concat_dim='time', combine='nested', data_vars='minimal')\n",
    "yearday = parent_his.scrum_time/86400"
   ]
  },
  {
   "cell_type": "code",
   "execution_count": null,
   "metadata": {},
   "outputs": [],
   "source": [
    "slevel = 49\n",
    "clevs = np.linspace(-1,1,50)\n",
    "\n",
    "time = np.arange(len(yearday.values))\n",
    "for ti in time:\n",
    "    print(ti)\n",
    "\n",
    "    vort = calcRelVort(his.u.isel(time=ti, s_rho=slevel), his.v.isel(time=ti, s_rho=slevel), grid)\n",
    "\n",
    "    plt.figure(figsize=(15, 10), dpi=300)\n",
    "\n",
    "    plt.contourf(grid.lon_rho.values, grid.lat_rho.values, vort.T,, clevs, cmap='seismic', extend='both')\n",
    "\n",
    "    cb = plt.colorbar()\n",
    "    cb.set_label('Vorticity [$\\zeta/f$]', fontsize=20)\n",
    "    cb.set_ticks([-1, 0, 1])\n",
    "    cb.ax.tick_params(labelsize=20)\n",
    "\n",
    "    plt.annotate('doy={:.0f}'.format(yearday[ti].values % 360), xy=(0.02, 0.95), xycoords='axes fraction', bbox=dict(facecolor='white', edgecolor='black'))\n",
    "\n",
    "\n",
    "    plt.savefig('plots/vort_'+str(ti)+'.png', bbox_inches='tight')\n",
    "    plt.close('all')"
   ]
  },
  {
   "cell_type": "code",
   "execution_count": null,
   "metadata": {},
   "outputs": [],
   "source": []
  },
  {
   "cell_type": "code",
   "execution_count": null,
   "metadata": {},
   "outputs": [],
   "source": []
  },
  {
   "cell_type": "code",
   "execution_count": null,
   "metadata": {},
   "outputs": [],
   "source": []
  },
  {
   "cell_type": "code",
   "execution_count": null,
   "metadata": {},
   "outputs": [],
   "source": []
  }
 ],
 "metadata": {
  "kernelspec": {
   "display_name": "Python 3",
   "language": "python",
   "name": "python3"
  },
  "language_info": {
   "codemirror_mode": {
    "name": "ipython",
    "version": 3
   },
   "file_extension": ".py",
   "mimetype": "text/x-python",
   "name": "python",
   "nbconvert_exporter": "python",
   "pygments_lexer": "ipython3",
   "version": "3.8.5"
  }
 },
 "nbformat": 4,
 "nbformat_minor": 2
}
